{
 "cells": [
  {
   "cell_type": "code",
   "execution_count": 6,
   "metadata": {
    "ExecuteTime": {
     "start_time": "2023-04-26T16:03:26.971674Z",
     "end_time": "2023-04-26T16:03:26.974786Z"
    }
   },
   "outputs": [
    {
     "data": {
      "text/plain": "'92122'"
     },
     "execution_count": 6,
     "metadata": {},
     "output_type": "execute_result"
    }
   ],
   "source": [
    "from pybmd import Bmd\n",
    "from dftt_timecode import DfttTimecode\n",
    "\n",
    "LOCAL_RESOLVE = Bmd()\n",
    "LOCAL_FUSION = LOCAL_RESOLVE.fusion()\n",
    "\n",
    "project_manager = LOCAL_RESOLVE.get_project_manager()\n",
    "current_project = project_manager.get_current_project()\n",
    "current_timeline = current_project.get_current_timeline()\n",
    "\n",
    "timeline_start_timecode = DfttTimecode(\n",
    "    current_timeline.get_start_timecode(),\n",
    "    \"auto\",\n",
    "    float(current_timeline.get_setting(\"timelineFrameRate\")),\n",
    "    False,\n",
    "    True,\n",
    ")\n",
    "\n",
    "marker_timecode = timeline_start_timecode + 5722\n",
    "current_timeline.set_current_timecode(marker_timecode.timecode_output(\"frame\"))\n",
    "marker_timecode.timecode_output(\"frame\")"
   ]
  },
  {
   "cell_type": "code",
   "execution_count": null,
   "outputs": [],
   "source": [],
   "metadata": {
    "collapsed": false
   }
  }
 ],
 "metadata": {
  "kernelspec": {
   "display_name": ".venv",
   "language": "python",
   "name": "python3"
  },
  "language_info": {
   "codemirror_mode": {
    "name": "ipython",
    "version": 3
   },
   "file_extension": ".py",
   "mimetype": "text/x-python",
   "name": "python",
   "nbconvert_exporter": "python",
   "pygments_lexer": "ipython3",
   "version": "3.10.11"
  },
  "orig_nbformat": 4
 },
 "nbformat": 4,
 "nbformat_minor": 2
}
