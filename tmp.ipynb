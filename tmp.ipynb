{
 "cells": [
  {
   "cell_type": "code",
   "execution_count": 40,
   "metadata": {},
   "outputs": [
    {
     "data": {
      "text/plain": [
       "{86: {'color': 'Blue',\n",
       "  'duration': 1,\n",
       "  'note': '',\n",
       "  'name': 'Marker 1',\n",
       "  'customData': ''},\n",
       " 381: {'color': 'Blue',\n",
       "  'duration': 1,\n",
       "  'note': '',\n",
       "  'name': 'Marker 2',\n",
       "  'customData': ''},\n",
       " 727: {'color': 'Blue',\n",
       "  'duration': 1,\n",
       "  'note': '',\n",
       "  'name': 'Marker 3',\n",
       "  'customData': ''},\n",
       " 979: {'color': 'Blue',\n",
       "  'duration': 1,\n",
       "  'note': '',\n",
       "  'name': 'Marker 4',\n",
       "  'customData': ''}}"
      ]
     },
     "execution_count": 40,
     "metadata": {},
     "output_type": "execute_result"
    }
   ],
   "source": [
    "from pybmd import Bmd\n",
    "from dftt_timecode import DfttTimecode\n",
    "\n",
    "LOCAL_RESOLVE = Bmd()\n",
    "LOCAL_FUSION = LOCAL_RESOLVE.fusion()\n",
    "\n",
    "project_manager = LOCAL_RESOLVE.get_project_manager()\n",
    "current_project = project_manager.get_current_project()\n",
    "current_timeline = current_project.get_current_timeline()\n",
    "\n",
    "timeline_start_timecode = DfttTimecode(\n",
    "    current_timeline.get_start_timecode(),\n",
    "    \"auto\",\n",
    "    float(current_timeline.get_setting(\"timelineFrameRate\")),\n",
    "    False,\n",
    "    True,\n",
    ")\n",
    "\n",
    "marker_timecode = timeline_start_timecode + 727\n",
    "current_timeline.set_current_timecode(marker_timecode.timecode_output())\n",
    "\n",
    "timeline_item = current_timeline.get_current_video_item()\n",
    "timeline_item.get_start()\n",
    "current_timeline.get_markers()"
   ]
  },
  {
   "cell_type": "code",
   "execution_count": 45,
   "metadata": {},
   "outputs": [
    {
     "name": "stdout",
     "output_type": "stream",
     "text": [
      "LCP_2\n"
     ]
    }
   ],
   "source": [
    "import os\n",
    "for f in os.listdir(\"/Users/thom/Desktop/import_test\"):\n",
    "    file_name = os.path.splitext(f)[0]\n",
    "    print(file_name)\n",
    "    break"
   ]
  },
  {
   "cell_type": "code",
   "execution_count": null,
   "metadata": {},
   "outputs": [],
   "source": []
  }
 ],
 "metadata": {
  "kernelspec": {
   "display_name": ".venv",
   "language": "python",
   "name": "python3"
  },
  "language_info": {
   "codemirror_mode": {
    "name": "ipython",
    "version": 3
   },
   "file_extension": ".py",
   "mimetype": "text/x-python",
   "name": "python",
   "nbconvert_exporter": "python",
   "pygments_lexer": "ipython3",
   "version": "3.10.10"
  },
  "orig_nbformat": 4
 },
 "nbformat": 4,
 "nbformat_minor": 2
}
