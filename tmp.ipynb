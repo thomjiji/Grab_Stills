{
 "cells": [
  {
   "cell_type": "code",
   "execution_count": 5,
   "metadata": {},
   "outputs": [
    {
     "data": {
      "text/plain": [
       "{'timelineDropFrameTimecode': '0',\n",
       " 'timelineFrameRate': '24',\n",
       " 'timelineInputResMismatchBehavior': 'scaleToCrop',\n",
       " 'timelineInterlaceProcessing': '0',\n",
       " 'timelineOutputPixelAspectRatio': 'square',\n",
       " 'timelineOutputResMatchTimelineRes': '1',\n",
       " 'timelineOutputResMismatchBehavior': 'scaleToFit',\n",
       " 'timelineOutputResolutionHeight': '1080',\n",
       " 'timelineOutputResolutionWidth': '1998',\n",
       " 'timelinePixelAspectRatio': 'square',\n",
       " 'timelineResolutionHeight': '1080',\n",
       " 'timelineResolutionWidth': '1998',\n",
       " 'useCustomSettings': '1',\n",
       " 'videoDataLevels': 'Video',\n",
       " 'videoDataLevelsRetainSubblockAndSuperWhiteData': '0',\n",
       " 'videoMonitorBitDepth': '10',\n",
       " 'videoMonitorFormat': 'HD 1080PsF 24',\n",
       " 'videoMonitorMatrixOverrideFor422SDI': 'Rec.601',\n",
       " 'videoMonitorSDIConfiguration': 'dual_link',\n",
       " 'videoMonitorScaling': 'Bilinear',\n",
       " 'videoMonitorUse444SDI': '0',\n",
       " 'videoMonitorUseHDROverHDMI': '0',\n",
       " 'videoMonitorUseLevelA': '0',\n",
       " 'videoMonitorUseMatrixOverrideFor422SDI': '0',\n",
       " 'videoMonitorUseStereoSDI': '0',\n",
       " 'superScale': 1}"
      ]
     },
     "execution_count": 5,
     "metadata": {},
     "output_type": "execute_result"
    }
   ],
   "source": [
    "from pybmd import Bmd\n",
    "\n",
    "LOCAL_RESOLVE = Bmd()\n",
    "LOCAL_FUSION = LOCAL_RESOLVE.fusion()\n",
    "\n",
    "project_manager = LOCAL_RESOLVE.get_project_manager()\n",
    "current_project = project_manager.get_current_project()\n",
    "current_timeline = current_project.get_current_timeline()\n",
    "\n",
    "current_timeline.get_setting()\n",
    "current_timeline.get_start_timecode()"
   ]
  },
  {
   "cell_type": "code",
   "execution_count": null,
   "metadata": {},
   "outputs": [],
   "source": []
  }
 ],
 "metadata": {
  "kernelspec": {
   "display_name": ".venv",
   "language": "python",
   "name": "python3"
  },
  "language_info": {
   "codemirror_mode": {
    "name": "ipython",
    "version": 3
   },
   "file_extension": ".py",
   "mimetype": "text/x-python",
   "name": "python",
   "nbconvert_exporter": "python",
   "pygments_lexer": "ipython3",
   "version": "3.10.10"
  },
  "orig_nbformat": 4
 },
 "nbformat": 4,
 "nbformat_minor": 2
}
